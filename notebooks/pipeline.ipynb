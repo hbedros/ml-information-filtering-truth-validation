{
 "cells": [
  {
   "cell_type": "code",
   "execution_count": null,
   "id": "c99a0179",
   "metadata": {},
   "outputs": [],
   "source": [
    "import sys\n",
    "\n",
    "# Check if the modules can be imported\n",
    "try:\n",
    "    import pipeline.pipeline\n",
    "    print(\"Pipeline module imported successfully!\")\n",
    "except ImportError as e:\n",
    "    print(\"Error importing pipeline:\", e)\n",
    "\n",
    "try:\n",
    "    import utils.utils\n",
    "    print(\"Utils module imported successfully!\")\n",
    "except ImportError as e:\n",
    "    print(\"Error importing utils:\", e)"
   ]
  },
  {
   "cell_type": "code",
   "execution_count": null,
   "id": "2725a7e5-1b7d-4228-85ab-67c19dbeb1f0",
   "metadata": {},
   "outputs": [],
   "source": [
    "import sys\n",
    "import os\n",
    "\n",
    "# Import the pipeline function and the datasets\n",
    "from pipeline.pipeline import pipeline\n",
    "from utils.utils import true_df\n",
    "\n",
    "# Define a query for contextual filtering\n",
    "query = None\n",
    "\n",
    "# Run the pipeline\n",
    "processed_df, lda_model, vectorizer = pipeline(true_df, text_column='subject', query=query, n_topics=5)\n",
    "\n",
    "# Preview the results\n",
    "print(processed_df.head())\n",
    "\n",
    "# Save the processed DataFrame to a CSV file (optional)\n",
    "processed_df.to_csv(\"processed_true.csv\", index=False)\n"
   ]
  }
 ],
 "metadata": {
  "kernelspec": {
   "display_name": "Python (torchmetal)",
   "language": "python",
   "name": "torchmetal"
  },
  "language_info": {
   "codemirror_mode": {
    "name": "ipython",
    "version": 3
   },
   "file_extension": ".py",
   "mimetype": "text/x-python",
   "name": "python",
   "nbconvert_exporter": "python",
   "pygments_lexer": "ipython3",
   "version": "3.9.21"
  }
 },
 "nbformat": 4,
 "nbformat_minor": 5
}
