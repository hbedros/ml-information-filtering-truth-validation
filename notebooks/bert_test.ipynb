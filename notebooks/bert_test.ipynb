{
 "cells": [
  {
   "cell_type": "markdown",
   "metadata": {},
   "source": [
    "### Experiment: we're activating here GPU to run BERT\n",
    "conda activate tfmetal"
   ]
  },
  {
   "cell_type": "code",
   "execution_count": null,
   "metadata": {},
   "outputs": [],
   "source": [
    "import sys\n",
    "print(sys.executable)\n",
    "\n",
    "import tensorflow as tf\n",
    "print(\"TF version:\", tf.__version__)\n",
    "print(\"GPU available:\", tf.config.list_physical_devices(\"GPU\"))"
   ]
  },
  {
   "cell_type": "code",
   "execution_count": null,
   "metadata": {},
   "outputs": [],
   "source": [
    "# ======== data test =========\n",
    "import sys\n",
    "import os\n",
    "\n",
    "# Add the path to the utils folder to the Python path\n",
    "sys.path.append(os.path.abspath(\"/Users/haigbedros/Desktop/MSDS/Capstone/CODE/ml-models-information-filtering/src/utils\"))\n",
    "\n",
    "from utils import tfa_df, fake_df, true_df, nyt_df\n",
    "\n",
    "# Verify the datasets\n",
    "# print(\"TFA Sample:\", tfa_df.head(2))\n",
    "# print(\"Fake Sample:\", fake_df.head(2))\n",
    "# print(\"True Sample:\", true_df.head(2))\n",
    "# print(\"NYT Sample:\", nyt_df.head(2))"
   ]
  },
  {
   "cell_type": "code",
   "execution_count": null,
   "metadata": {},
   "outputs": [],
   "source": [
    "# BERT\n",
    "import sys\n",
    "import os\n",
    "import torch\n",
    "import pandas as pd\n",
    "\n",
    "# Add the path to the 'models' folder to the Python path\n",
    "sys.path.append(os.path.abspath(\"/Users/haigbedros/Desktop/MSDS/Capstone/CODE/ml-models-information-filtering/src/models\"))\n",
    "\n",
    "from bert_model import BERTEmbedder  # Import the BERTEmbedder class\n",
    "\n",
    "# === STEP 1: Load your dataframe here ===\n",
    "# Example:\n",
    "# df = pd.read_csv(\"your_data.csv\")\n",
    "# OR\n",
    "# df = pd.DataFrame({'text': [\"Sample sentence one.\", \"Another example.\"]})\n",
    "\n",
    "# Make sure your DataFrame has a column called 'text'\n",
    "# or change the column name in step 4 accordingly.\n",
    "# df = pd.DataFrame({'text': [\n",
    "#     \"The U.S. economy is expected to grow in 2025.\",\n",
    "#    \"Aliens landed in Ohio according to unverified reports.\",\n",
    "#    \"Teachers in Armenia report improved student performance with new resources.\"\n",
    "#]})\n",
    "df = true_df\n",
    "\n",
    "# === STEP 2: Initialize BERT ===\n",
    "bert = BERTEmbedder()\n",
    "\n",
    "# === STEP 3: Run Embedding ===\n",
    "embeddings = bert.embed_dataframe(df, text_column='text')\n",
    "\n",
    "# === STEP 4: Check results ===\n",
    "print(\"Embedding shape:\", embeddings.shape)\n",
    "print(\"First vector:\", embeddings[0])\n"
   ]
  }
 ],
 "metadata": {
  "kernelspec": {
   "display_name": "tfmetal",
   "language": "python",
   "name": "python3"
  },
  "language_info": {
   "codemirror_mode": {
    "name": "ipython",
    "version": 3
   },
   "file_extension": ".py",
   "mimetype": "text/x-python",
   "name": "python",
   "nbconvert_exporter": "python",
   "pygments_lexer": "ipython3",
   "version": "3.9.21"
  }
 },
 "nbformat": 4,
 "nbformat_minor": 2
}
