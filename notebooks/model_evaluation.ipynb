{
 "cells": [
  {
   "cell_type": "markdown",
   "metadata": {},
   "source": [
    "# Model Evaluation: LDA + BERT Hybrid Approach\n",
    "This notebook evaluates a hybrid ML pipeline combining Latent Dirichlet Allocation (LDA) and BERT for information filtering and truth validation. "
   ]
  },
  {
   "cell_type": "code",
   "execution_count": 42,
   "metadata": {},
   "outputs": [
    {
     "name": "stdout",
     "output_type": "stream",
     "text": [
      "✅ Working in: /Users/haigbedros/Desktop/MSDS/Capstone/CODE/ml-models-information-filtering\n"
     ]
    }
   ],
   "source": [
    "# ----------------------------------------\n",
    "# Setup: Imports and Path Configuration\n",
    "# ----------------------------------------\n",
    "import os\n",
    "import sys\n",
    "import pandas as pd\n",
    "import numpy as np\n",
    "import matplotlib.pyplot as plt\n",
    "import seaborn as sns\n",
    "from sklearn.metrics import classification_report, confusion_matrix, accuracy_score\n",
    "\n",
    "# Set the root of the project (no more climbing up)\n",
    "project_root = \"/Users/haigbedros/Desktop/MSDS/Capstone/CODE/ml-models-information-filtering\"\n",
    "os.chdir(project_root)\n",
    "\n",
    "src_path = os.path.join(project_root, \"src\")\n",
    "if src_path not in sys.path:\n",
    "    sys.path.append(src_path)\n",
    "\n",
    "print(\"✅ Working in:\", os.getcwd())"
   ]
  },
  {
   "cell_type": "code",
   "execution_count": null,
   "metadata": {},
   "outputs": [
    {
     "name": "stdout",
     "output_type": "stream",
     "text": [
      "\n",
      "Individual token counts: [10, 6, 6]\n",
      "Total tokens: 22\n"
     ]
    }
   ],
   "source": [
    "# ----------------------------------------\n",
    "# Token Counter Test\n",
    "# ----------------------------------------\n",
    "from src.tokenizer.token_counter import TokenCounter\n",
    "\n",
    "counter = TokenCounter(\"gpt-3.5-turbo\")\n",
    "\n",
    "texts = [\n",
    "    \"The quick brown fox jumps over the lazy dog.\",\n",
    "    \"LDA discovers hidden topics.\",\n",
    "    \"BERT extracts deep contextual embeddings.\"\n",
    "]\n",
    "\n",
    "print(\"\\nIndividual token counts:\", counter.count_batch(texts))\n",
    "print(\"Total tokens:\", counter.total_tokens(texts))"
   ]
  },
  {
   "cell_type": "code",
   "execution_count": null,
   "metadata": {},
   "outputs": [
    {
     "ename": "ImportError",
     "evalue": "cannot import name 'LDAModel' from 'src.models.lda_model' (/Users/haigbedros/Desktop/MSDS/Capstone/CODE/ml-models-information-filtering/src/models/lda_model.py)",
     "output_type": "error",
     "traceback": [
      "\u001b[31m---------------------------------------------------------------------------\u001b[39m",
      "\u001b[31mImportError\u001b[39m                               Traceback (most recent call last)",
      "\u001b[36mCell\u001b[39m\u001b[36m \u001b[39m\u001b[32mIn[40]\u001b[39m\u001b[32m, line 4\u001b[39m\n\u001b[32m      1\u001b[39m \u001b[38;5;66;03m# ----------------------------------------\u001b[39;00m\n\u001b[32m      2\u001b[39m \u001b[38;5;66;03m# LDA Model Test\u001b[39;00m\n\u001b[32m      3\u001b[39m \u001b[38;5;66;03m# ----------------------------------------\u001b[39;00m\n\u001b[32m----> \u001b[39m\u001b[32m4\u001b[39m \u001b[38;5;28;01mfrom\u001b[39;00m\u001b[38;5;250m \u001b[39m\u001b[34;01msrc\u001b[39;00m\u001b[34;01m.\u001b[39;00m\u001b[34;01mmodels\u001b[39;00m\u001b[34;01m.\u001b[39;00m\u001b[34;01mlda_model\u001b[39;00m\u001b[38;5;250m \u001b[39m\u001b[38;5;28;01mimport\u001b[39;00m LDAModel\n\u001b[32m      6\u001b[39m sample_docs = [\n\u001b[32m      7\u001b[39m     \u001b[33m\"\u001b[39m\u001b[33mAI models are transforming healthcare by analyzing EHR data.\u001b[39m\u001b[33m\"\u001b[39m,\n\u001b[32m      8\u001b[39m     \u001b[33m\"\u001b[39m\u001b[33mSome news websites spread fake content for political gain.\u001b[39m\u001b[33m\"\u001b[39m,\n\u001b[32m      9\u001b[39m     \u001b[33m\"\u001b[39m\u001b[33mTeachers use technology to enhance student engagement.\u001b[39m\u001b[33m\"\u001b[39m,\n\u001b[32m     10\u001b[39m ]\n\u001b[32m     12\u001b[39m lda = LDAModel(num_topics=\u001b[32m3\u001b[39m)\n",
      "\u001b[31mImportError\u001b[39m: cannot import name 'LDAModel' from 'src.models.lda_model' (/Users/haigbedros/Desktop/MSDS/Capstone/CODE/ml-models-information-filtering/src/models/lda_model.py)"
     ]
    }
   ],
   "source": [
    "from models.lda_model import LDAModel\n",
    "\n",
    "sample_docs = [\n",
    "    \"AI models are transforming healthcare by analyzing EHR data.\",\n",
    "    \"Some news websites spread fake content for political gain.\",\n",
    "    \"Teachers use technology to enhance student engagement.\",\n",
    "]\n",
    "\n",
    "lda = LDAModel(num_topics=3)\n",
    "lda.train(sample_docs)\n",
    "\n",
    "print(\"\\nTopics:\")\n",
    "for topic in lda.get_topics():\n",
    "    print(topic)\n",
    "\n",
    "test_doc = \"AI is being used in schools and hospitals.\"\n",
    "print(\"\\nTopic distribution for test document:\")\n",
    "print(lda.infer_topic_distribution(test_doc))"
   ]
  }
 ],
 "metadata": {
  "kernelspec": {
   "display_name": "Python (jupyter_env)",
   "language": "python",
   "name": "jupyter_env"
  },
  "language_info": {
   "codemirror_mode": {
    "name": "ipython",
    "version": 3
   },
   "file_extension": ".py",
   "mimetype": "text/x-python",
   "name": "python",
   "nbconvert_exporter": "python",
   "pygments_lexer": "ipython3",
   "version": "3.11.7"
  }
 },
 "nbformat": 4,
 "nbformat_minor": 2
}
